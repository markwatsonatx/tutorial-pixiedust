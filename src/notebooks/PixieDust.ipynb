{
 "cells": [
  {
   "cell_type": "code",
   "execution_count": 1,
   "metadata": {},
   "outputs": [
    {
     "name": "stdout",
     "output_type": "stream",
     "text": [
      "Pixiedust database opened successfully\n",
      "Table VERSION_TRACKER created successfully\n"
     ]
    },
    {
     "data": {
      "text/html": [
       "\n",
       "        <div style=\"margin:10px\">\n",
       "            <a href=\"https://github.com/ibm-cds-labs/pixiedust\" target=\"_new\">\n",
       "                <img src=\"https://github.com/ibm-cds-labs/pixiedust/raw/master/docs/_static/pd_icon32.png\" style=\"float:left;margin-right:10px\"/>\n",
       "            </a>\n",
       "            <span>Pixiedust version 1.0.6</span>\n",
       "        </div>\n",
       "        "
      ],
      "text/plain": [
       "<IPython.core.display.HTML object>"
      ]
     },
     "metadata": {},
     "output_type": "display_data"
    },
    {
     "name": "stdout",
     "output_type": "stream",
     "text": [
      "Pixiedust runtime updated. Please restart kernel\n",
      "Table SPARK_PACKAGES created successfully\n",
      "Table USER_PREFERENCES created successfully\n",
      "Table service_connections created successfully\n"
     ]
    }
   ],
   "source": [
    "import pixiedust"
   ]
  },
  {
   "cell_type": "markdown",
   "metadata": {},
   "source": [
    "## Use the Cloudant Browser with Local Cloudant"
   ]
  },
  {
   "cell_type": "code",
   "execution_count": 2,
   "metadata": {},
   "outputs": [
    {
     "data": {
      "text/plain": [
       "'Local'"
      ]
     },
     "execution_count": 2,
     "metadata": {},
     "output_type": "execute_result"
    }
   ],
   "source": [
    "from pixiedust.apps.cloudantBrowser import *\n",
    "addConnection('cloudant', {\n",
    "    'credentials': {\n",
    "        'host': 'db',\n",
    "        'password': 'pass',\n",
    "        'port': 80,\n",
    "        'url': 'http://admin:pass@db',\n",
    "        'username': 'admin',\n",
    "        'protocol': 'http'\n",
    "    },\n",
    "    'name': 'Local'\n",
    "})"
   ]
  },
  {
   "cell_type": "code",
   "execution_count": 3,
   "metadata": {},
   "outputs": [
    {
     "data": {
      "text/html": [
       "<div class=\"pixiedust\" pixiedust=\"{&quot;prefix&quot;: &quot;4402eab2&quot;, &quot;command&quot;: &quot;display(app,runInDialog=&apos;false&apos;,handlerId=&apos;pixiedust.apps.cloudantBrowser_CloudantBrowser_id&apos;,cell_id=&apos;3E110C2EF8C6466BA80B3D7D82ACF368&apos;,nostore_pixiedust=&apos;true&apos;,nostore_cw=&apos;1098&apos;,org_params=&apos;runInDialog,handlerId,nostore_pixiedust&apos;,nostore_bokeh=&apos;false&apos;)&quot;, &quot;options&quot;: {&quot;runInDialog&quot;: &quot;false&quot;, &quot;cell_id&quot;: &quot;3E110C2EF8C6466BA80B3D7D82ACF368&quot;, &quot;org_params&quot;: &quot;runInDialog,handlerId,nostore_pixiedust&quot;, &quot;nostore_cw&quot;: &quot;1098&quot;, &quot;handlerId&quot;: &quot;pixiedust.apps.cloudantBrowser_CloudantBrowser_id&quot;, &quot;nostore_bokeh&quot;: &quot;false&quot;, &quot;nostore_pixiedust&quot;: &quot;true&quot;, &quot;showchrome&quot;: &quot;true&quot;}}\">\n",
       "  <button class=\"btn btn-default btn-sm expandButton\" data-toggle=\"collapse\"\n",
       "          data-target=\"#pixiedust-output-wrapper-4402eab2\" title=\"Expand/Collapse Pixiedust output\">\n",
       "    <i class=\"fa\"></i>\n",
       "  </button>\n",
       "  <div id=\"pixiedust-output-wrapper-4402eab2\" class=\"pixiedust-output-wrapper collapse in\">\n",
       "    \n",
       "    <div id=\"wrapperJS4402eab2\"></div>\n",
       "    <div id=\"wrapperHTML4402eab2\" class=\"pixiedustWrapperHTML\" style=\"min-height:100px\"></div>\n",
       "  </div>\n",
       "</div>\n",
       "                    <script>\n",
       "                    (\n",
       "\n",
       "\n",
       "function() {\n",
       "    function getTargetNode(){\n",
       "        var n = $('#' + 'wrapperHTML4402eab2');\n",
       "        if (n.length == 0 ){\n",
       "            n = $('#wrapperHTML4402eab2');\n",
       "        }\n",
       "        return n;\n",
       "    }\n",
       "    cellId = typeof cellId === \"undefined\" ? \"\" : cellId;\n",
       "    var curCell=IPython.notebook.get_cells().filter(function(cell){\n",
       "        return cell.cell_id==\"3E110C2EF8C6466BA80B3D7D82ACF368\".replace(\"cellId\",cellId);\n",
       "    });\n",
       "    curCell=curCell.length>0?curCell[0]:null;\n",
       "    console.log(\"curCell\",curCell);\n",
       "    var startWallToWall;\n",
       "    //Resend the display command\n",
       "    var callbacks = {\n",
       "        shell : {\n",
       "            payload : {\n",
       "                set_next_input : function(payload){\n",
       "                    if (curCell){\n",
       "                        curCell._handle_set_next_input(payload);\n",
       "                    }\n",
       "                }\n",
       "            }\n",
       "        },\n",
       "        iopub:{\n",
       "            output:function(msg){\n",
       "                console.log(\"msg\", msg);\n",
       "                if (false){\n",
       "                    curCell.output_area.clear_output(false, true);\n",
       "                    curCell.output_area.handle_output.apply(curCell.output_area, arguments);\n",
       "                    return;\n",
       "                }\n",
       "                var msg_type=msg.header.msg_type;\n",
       "                var content = msg.content;\n",
       "                var executionTime = $(\"#execution4402eab2\");\n",
       "                if(msg_type===\"stream\"){\n",
       "                    getTargetNode().html(content.text);\n",
       "                }else if (msg_type===\"display_data\" || msg_type===\"execute_result\"){\n",
       "                    var html=null;\n",
       "                    if (!!content.data[\"text/html\"]){\n",
       "                        html=content.data[\"text/html\"];\n",
       "                    }else if (!!content.data[\"image/png\"]){\n",
       "                        html=html||\"\";\n",
       "                        html+=\"<img src='data:image/png;base64,\" +content.data[\"image/png\"]+\"'></img>\";\n",
       "                    }\n",
       "                                                    \n",
       "                    if (!!content.data[\"application/javascript\"]){\n",
       "                        try {\n",
       "                            eval(content.data[\"application/javascript\"]);\n",
       "                        } catch(err) {\n",
       "                            curCell.output_area.handle_output.apply(curCell.output_area, arguments);\n",
       "                        }                        \n",
       "                        return;\n",
       "                    }\n",
       "                    \n",
       "                    if (html){\n",
       "                        try{\n",
       "                            getTargetNode().html(html);\n",
       "                        }catch(e){\n",
       "                            console.log(\"Invalid html output\", e, html);\n",
       "                            getTargetNode().html( \"Invalid html output: \" + e.message + \"<pre>\" \n",
       "                                + html.replace(/>/g,'&gt;').replace(/</g,'&lt;').replace(/\"/g,'&quot;') + \"<pre>\");\n",
       "                        }\n",
       "\n",
       "                        if(curCell&&curCell.output_area&&curCell.output_area.outputs){\n",
       "                            setTimeout(function(){\n",
       "                                var data = JSON.parse(JSON.stringify(content.data));\n",
       "                                if(!!data[\"text/html\"])data[\"text/html\"]=html;\n",
       "                                function savedData(data){\n",
       "                                    \n",
       "                                    var markup='<style type=\"text/css\">.pd_warning{display:none;}</style>';\n",
       "                                    markup+='<div class=\"pd_warning\"><em>Hey, there\\'s something awesome here! To see it, open this notebook outside GitHub, in a viewer like Jupyter</em></div>';\n",
       "                                    nodes = $.parseHTML(data[\"text/html\"], null, true);\n",
       "                                    var s = $(nodes).wrap(\"<div>\").parent().find(\".pd_save\").not(\".pd_save .pd_save\")\n",
       "                                    s.each(function(){\n",
       "                                        var found = false;\n",
       "                                        if ( $(this).attr(\"id\") ){\n",
       "                                            var n = $(\"#\" + $(this).attr(\"id\"));\n",
       "                                            if (n.length>0){\n",
       "                                                found=true;\n",
       "                                                n.each(function(){\n",
       "                                                    $(this).addClass(\"is-viewer-good\");\n",
       "                                                });\n",
       "                                                markup+=n.wrap(\"<div>\").parent().html();\n",
       "                                            }\n",
       "                                        }else{\n",
       "                                            $(this).addClass(\"is-viewer-good\");\n",
       "                                        }\n",
       "                                        if (!found){\n",
       "                                            markup+=$(this).parent().html();\n",
       "                                        }\n",
       "                                    });\n",
       "                                    data[\"text/html\"] = markup;\n",
       "                                    return data;\n",
       "                                }\n",
       "                                curCell.output_area.outputs.push({\"data\": savedData(data),\"metadata\":content.metadata,\"output_type\":msg_type});\n",
       "                            },2000);\n",
       "                        }\n",
       "                    }\n",
       "                }else if (msg_type === \"error\") {\n",
       "                    require(['base/js/utils'], function(utils) {\n",
       "                        var tb = content.traceback;\n",
       "                        console.log(\"tb\",tb);\n",
       "                        if (tb && tb.length>0){\n",
       "                            var data = tb.reduce(function(res, frame){return res+frame+'\\\\n';},\"\");\n",
       "                            console.log(\"data\",data);\n",
       "                            data = utils.fixConsole(data);\n",
       "                            data = utils.fixCarriageReturn(data);\n",
       "                            data = utils.autoLinkUrls(data);\n",
       "                            getTargetNode().html(\"<pre>\" + data +\"</pre>\");\n",
       "                        }\n",
       "                    });\n",
       "                }\n",
       "\n",
       "                //Append profiling info\n",
       "                if (executionTime.length > 0 && $(\"#execution4402eab2\").length == 0 ){\n",
       "                    getTargetNode().append(executionTime);\n",
       "                }else if (startWallToWall && $(\"#execution4402eab2\").length > 0 ){\n",
       "                    $(\"#execution4402eab2\").append($(\"<div/>\").text(\"Wall to Wall time: \" + ( (new Date().getTime() - startWallToWall)/1000 ) + \"s\"));\n",
       "                }\n",
       "\n",
       "                if (typeof onDisplayDone4402eab2 != \"undefined\"){\n",
       "                    onDisplayDone4402eab2();\n",
       "                }\n",
       "                $(document).trigger('pd_event', {type:\"pd_load\", targetNode: getTargetNode()});\n",
       "            }\n",
       "        }\n",
       "    }\n",
       "    \n",
       "    if (IPython && IPython.notebook && IPython.notebook.session && IPython.notebook.session.kernel){\n",
       "        var command = \"display(app,runInDialog='false',handlerId='pixiedust.apps.cloudantBrowser_CloudantBrowser_id',cell_id='3E110C2EF8C6466BA80B3D7D82ACF368',nostore_pixiedust='true',nostore_cw='1098',org_params='runInDialog,handlerId,nostore_pixiedust',nostore_bokeh='false',prefix='4402eab2')\".replace(\"cellId\",cellId);\n",
       "        function addOptions(options, override=true){\n",
       "            function getStringRep(v) {\n",
       "                return \"'\" + v + \"'\";\n",
       "            }\n",
       "            for (var key in (options||{})){\n",
       "                var value = options[key];\n",
       "                var hasValue = value != null && typeof value !== 'undefined' && value !== '';\n",
       "                var replaceValue = hasValue ? (key+\"=\" + getStringRep(value) ) : \"\";\n",
       "                var pattern = (hasValue?\"\":\",\")+\"\\\\s*\" + key + \"\\\\s*=\\\\s*'(\\\\\\\\'|[^'])*'\";\n",
       "                var rpattern=new RegExp(pattern);\n",
       "                var n = command.search(rpattern);\n",
       "                if ( n >= 0 ){\n",
       "                    if (override){\n",
       "                        command = command.replace(rpattern, replaceValue);\n",
       "                    }\n",
       "                }else if (hasValue){\n",
       "                    var n = command.lastIndexOf(\")\");\n",
       "                    command = [command.slice(0, n), (command[n-1]==\"(\"? \"\":\",\") + replaceValue, command.slice(n)].join('')\n",
       "                }        \n",
       "            }\n",
       "        }\n",
       "        if(typeof cellMetadata != \"undefined\" && cellMetadata.displayParams){\n",
       "            addOptions(cellMetadata.displayParams);\n",
       "        }else if (curCell && curCell._metadata.pixiedust ){\n",
       "            addOptions(curCell._metadata.pixiedust.displayParams || {}, ('False'=='True') );\n",
       "        }\n",
       "        addOptions({});\n",
       "        \n",
       "        \n",
       "    \n",
       "\n",
       "        \n",
       "        $('#wrapperJS4402eab2').html(\"\")\n",
       "        getTargetNode().html('<div style=\"width:100px;height:60px;left:47%;position:relative\"><i class=\"fa fa-circle-o-notch fa-spin\" style=\"font-size:48px\"></i></div>'+\n",
       "        '<div style=\"text-align:center\">Loading your data. Please wait...</div>');\n",
       "        startWallToWall = new Date().getTime();\n",
       "        \n",
       "        console.log(\"Running command2\",command);\n",
       "        IPython.notebook.session.kernel.execute(command, callbacks, {silent:true,store_history:false,stop_on_error:true});\n",
       "    }\n",
       "}\n",
       ")();\n",
       "                    </script>\n",
       "                </div>"
      ],
      "text/plain": [
       "<IPython.core.display.HTML object>"
      ]
     },
     "metadata": {},
     "output_type": "display_data"
    },
    {
     "data": {
      "text/html": [
       "<style type=\"text/css\">.pd_warning{display:none;}</style><div class=\"pd_warning\"><em>Hey, there's something awesome here! To see it, open this notebook outside GitHub, in a viewer like Jupyter</em></div>"
      ],
      "text/plain": [
       "<IPython.core.display.HTML object>"
      ]
     },
     "metadata": {},
     "output_type": "display_data"
    },
    {
     "data": {
      "text/html": [
       "<style type=\"text/css\">.pd_warning{display:none;}</style><div class=\"pd_warning\"><em>Hey, there's something awesome here! To see it, open this notebook outside GitHub, in a viewer like Jupyter</em></div>"
      ],
      "text/plain": [
       "<IPython.core.display.HTML object>"
      ]
     },
     "metadata": {},
     "output_type": "display_data"
    }
   ],
   "source": [
    "app = CloudantBrowser()\n",
    "app.run()"
   ]
  },
  {
   "cell_type": "code",
   "execution_count": null,
   "metadata": {
    "collapsed": true,
    "pixiedust": {
     "displayParams": {
      "handlerId": "dataframe"
     }
    }
   },
   "outputs": [],
   "source": [
    "df = app.get_data_frame()\n",
    "display(df)"
   ]
  },
  {
   "cell_type": "markdown",
   "metadata": {},
   "source": [
    "## Load a Local CSV File"
   ]
  },
  {
   "cell_type": "code",
   "execution_count": null,
   "metadata": {
    "collapsed": true
   },
   "outputs": [],
   "source": [
    "df = pixiedust.sampleData(\"file:///usr/data/accidents.csv\")"
   ]
  },
  {
   "cell_type": "code",
   "execution_count": null,
   "metadata": {
    "collapsed": true,
    "pixiedust": {
     "displayParams": {
      "handlerId": "dataframe"
     }
    }
   },
   "outputs": [],
   "source": [
    "display(df)"
   ]
  },
  {
   "cell_type": "markdown",
   "metadata": {},
   "source": [
    "## Use the Spark Cloudant Connector with Local Cloudant"
   ]
  },
  {
   "cell_type": "code",
   "execution_count": null,
   "metadata": {
    "collapsed": true
   },
   "outputs": [],
   "source": [
    "sql_context = SQLContext(sc)\n",
    "df_reader = sql_context.read.format(\"com.cloudant.spark\") \\\n",
    "                .option(\"cloudant.host\", \"cloudant\") \\\n",
    "                .option(\"cloudant.username\", \"admin\") \\\n",
    "                .option(\"cloudant.password\", \"pass\") \\\n",
    "                .option(\"cloudant.protocol\",\"http\")"
   ]
  },
  {
   "cell_type": "code",
   "execution_count": null,
   "metadata": {
    "collapsed": true
   },
   "outputs": [],
   "source": [
    "df = df_reader.load(\"stats\")"
   ]
  },
  {
   "cell_type": "code",
   "execution_count": null,
   "metadata": {
    "collapsed": true,
    "pixiedust": {
     "displayParams": {
      "handlerId": "dataframe"
     }
    }
   },
   "outputs": [],
   "source": [
    "display(df)"
   ]
  }
 ],
 "metadata": {
  "kernelspec": {
   "display_name": "Python with Pixiedust (Spark 1.6)",
   "language": "python",
   "name": "pythonwithpixiedustspark16"
  },
  "language_info": {
   "codemirror_mode": {
    "name": "ipython",
    "version": 2
   },
   "file_extension": ".py",
   "mimetype": "text/x-python",
   "name": "python",
   "nbconvert_exporter": "python",
   "pygments_lexer": "ipython2",
   "version": "2.7.12"
  }
 },
 "nbformat": 4,
 "nbformat_minor": 1
}
